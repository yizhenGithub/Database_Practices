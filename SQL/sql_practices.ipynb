__Question:__ Create a view ```employee_customer_sales``` with the following information:
- ```employeeNumber```
- ```employeeLastname```
- ```employeeFirstName```
- ```customerNumber```
- ```customerName```
- ```revenue```

- The employee information is for the employee that is the ```customer.customerRepEmployeeNumber```.
- ```revenue``` is the total revenue over all of the customer's orders.
    - The revenue for an ```order``` is ```priceEach*quantityOrdered``` for each ```orderdetails``` in the order.

%%sql
USE classicmodels;
DROP VIEW IF EXISTS employee_customer_sales;
CREATE VIEW employee_customer_sales AS 
SELECT 
    A.employeeNumber AS employeeNumber,
    A.lastName AS employeeLastname,
    A.firstName AS employeeFirstName,
    B.customerNumber AS customerNumber,
    B.customerName AS customerName,
    SUM(D.priceEach*D.quantityOrdered) AS revenue
FROM employees A
JOIN 
    customers B
    ON A.employeeNumber = B.salesRepEmployeeNumber
JOIN 
    orders C
    ON B.customerNumber = C.customerNumber
JOIN 
    orderdetails D 
    ON C.orderNumber = D.orderNumber
GROUP BY C.customerNumber
ORDER BY employeeLastname ASC, employeeFirstName ASC, revenue DESC
